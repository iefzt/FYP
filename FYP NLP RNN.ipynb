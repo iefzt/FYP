{
 "cells": [
  {
   "cell_type": "markdown",
   "metadata": {},
   "source": [
    "# Evaluation\n",
    "Evaluation of each text classifier will be based on accuracy, precison, recall, f1 score and confusion matrix. A heatmap based on the confusion will also be generated for visualisation purposes as reference. sklearn.metrics has a very useful classfication report feature that is able to print out each evaluation metric mentioned above.\n",
    "\n",
    "Accuracy = True Positives + True Negatives / (True Positives + False Positives + True Negatives + False Negatives)              \n",
    "Accuracy is the ratio of true positives and negatives to all predictions.\n",
    "\n",
    "Precision = True Positives / (True Positives + False Positives)                                                                  \n",
    "Precision is the ratio of true positives to all positive predictions.\n",
    "\n",
    "Recall = (True Positives / (True Positives + False Negatives)                                                                    \n",
    "Recall is the ratio of true positives to true positives and false negatives.\n",
    "\n",
    "F-Score = 2 * ((Precision * Recall) / (Precision + Recall))                                                                      \n",
    "F-Score is the weight average of Precision and Recall which takes into account false positives and negatives. It is especially useful for uneven class distributions."
   ]
  },
  {
   "cell_type": "code",
   "execution_count": 57,
   "metadata": {
    "_cell_guid": "b1076dfc-b9ad-4769-8c92-a6c4dae69d19",
    "_uuid": "8f2839f25d086af736a60e9eeb907d3b93b6e0e5",
    "execution": {
     "iopub.execute_input": "2021-12-06T15:44:44.352522Z",
     "iopub.status.busy": "2021-12-06T15:44:44.352188Z",
     "iopub.status.idle": "2021-12-06T15:44:49.157863Z",
     "shell.execute_reply": "2021-12-06T15:44:49.157025Z",
     "shell.execute_reply.started": "2021-12-06T15:44:44.352490Z"
    }
   },
   "outputs": [],
   "source": [
    "import pandas as pd  \n",
    "import numpy as np \n",
    "import tensorflow as tf \n",
    "import re\n",
    "import seaborn as sns\n",
    "import nltk\n",
    "from nltk.corpus import stopwords\n",
    "from nltk.stem.porter import PorterStemmer\n",
    "from nltk.stem import WordNetLemmatizer\n",
    "from spacy.util import minibatch\n",
    "import matplotlib.pyplot as plt\n",
    "from tensorflow.keras.preprocessing.text import Tokenizer\n",
    "from tensorflow.keras import datasets, layers, models\n",
    "import tensorflow as tf\n",
    "from sklearn.model_selection import train_test_split\n",
    "from sklearn.metrics import accuracy_score, confusion_matrix, precision_score, recall_score, classification_report, f1_score\n",
    "from sklearn import metrics\n",
    "from sklearn.naive_bayes import MultinomialNB\n",
    "from sklearn.ensemble import RandomForestClassifier\n",
    "from sklearn.linear_model import LogisticRegression"
   ]
  },
  {
   "cell_type": "markdown",
   "metadata": {},
   "source": [
    "# Data Preprocessing"
   ]
  },
  {
   "cell_type": "code",
   "execution_count": 2,
   "metadata": {
    "_cell_guid": "79c7e3d0-c299-4dcb-8224-4455121ee9b0",
    "_uuid": "d629ff2d2480ee46fbb7e2d37f6b5fab8052498a",
    "execution": {
     "iopub.execute_input": "2021-12-06T15:44:49.160432Z",
     "iopub.status.busy": "2021-12-06T15:44:49.159927Z",
     "iopub.status.idle": "2021-12-06T15:44:51.459560Z",
     "shell.execute_reply": "2021-12-06T15:44:51.458783Z",
     "shell.execute_reply.started": "2021-12-06T15:44:49.160378Z"
    }
   },
   "outputs": [],
   "source": [
    "#read data from csv.files\n",
    "fake_df = pd.read_csv('Fake.csv')\n",
    "true_df = pd.read_csv('True.csv')"
   ]
  },
  {
   "cell_type": "markdown",
   "metadata": {},
   "source": [
    "Checking for null values "
   ]
  },
  {
   "cell_type": "code",
   "execution_count": 3,
   "metadata": {
    "execution": {
     "iopub.execute_input": "2021-12-06T15:44:51.463238Z",
     "iopub.status.busy": "2021-12-06T15:44:51.462981Z",
     "iopub.status.idle": "2021-12-06T15:44:51.483272Z",
     "shell.execute_reply": "2021-12-06T15:44:51.482271Z",
     "shell.execute_reply.started": "2021-12-06T15:44:51.463212Z"
    }
   },
   "outputs": [
    {
     "data": {
      "text/plain": [
       "title      0\n",
       "text       0\n",
       "subject    0\n",
       "date       0\n",
       "dtype: int64"
      ]
     },
     "execution_count": 3,
     "metadata": {},
     "output_type": "execute_result"
    }
   ],
   "source": [
    "#check for null values in True\n",
    "true_df.isnull().sum()"
   ]
  },
  {
   "cell_type": "code",
   "execution_count": 4,
   "metadata": {
    "execution": {
     "iopub.execute_input": "2021-12-06T15:44:51.485338Z",
     "iopub.status.busy": "2021-12-06T15:44:51.484725Z",
     "iopub.status.idle": "2021-12-06T15:44:51.504944Z",
     "shell.execute_reply": "2021-12-06T15:44:51.503978Z",
     "shell.execute_reply.started": "2021-12-06T15:44:51.485298Z"
    }
   },
   "outputs": [
    {
     "data": {
      "text/plain": [
       "title      0\n",
       "text       0\n",
       "subject    0\n",
       "date       0\n",
       "dtype: int64"
      ]
     },
     "execution_count": 4,
     "metadata": {},
     "output_type": "execute_result"
    }
   ],
   "source": [
    "#check for null values in False\n",
    "fake_df.isnull().sum()"
   ]
  },
  {
   "cell_type": "code",
   "execution_count": 5,
   "metadata": {
    "execution": {
     "iopub.execute_input": "2021-12-06T15:44:51.509612Z",
     "iopub.status.busy": "2021-12-06T15:44:51.509028Z",
     "iopub.status.idle": "2021-12-06T15:44:51.519941Z",
     "shell.execute_reply": "2021-12-06T15:44:51.518901Z",
     "shell.execute_reply.started": "2021-12-06T15:44:51.509571Z"
    }
   },
   "outputs": [
    {
     "data": {
      "text/plain": [
       "array(['politicsNews', 'worldnews'], dtype=object)"
      ]
     },
     "execution_count": 5,
     "metadata": {},
     "output_type": "execute_result"
    }
   ],
   "source": [
    "#check for unique values in True\n",
    "true_df.subject.unique()"
   ]
  },
  {
   "cell_type": "code",
   "execution_count": 6,
   "metadata": {
    "execution": {
     "iopub.execute_input": "2021-12-06T15:44:51.523799Z",
     "iopub.status.busy": "2021-12-06T15:44:51.523155Z",
     "iopub.status.idle": "2021-12-06T15:44:51.531787Z",
     "shell.execute_reply": "2021-12-06T15:44:51.530989Z",
     "shell.execute_reply.started": "2021-12-06T15:44:51.523760Z"
    }
   },
   "outputs": [
    {
     "data": {
      "text/plain": [
       "array(['News', 'politics', 'Government News', 'left-news', 'US_News',\n",
       "       'Middle-east'], dtype=object)"
      ]
     },
     "execution_count": 6,
     "metadata": {},
     "output_type": "execute_result"
    }
   ],
   "source": [
    "#check for unique values in False\n",
    "fake_df.subject.unique()"
   ]
  },
  {
   "cell_type": "code",
   "execution_count": 7,
   "metadata": {
    "execution": {
     "iopub.execute_input": "2021-12-06T15:44:51.533698Z",
     "iopub.status.busy": "2021-12-06T15:44:51.533212Z",
     "iopub.status.idle": "2021-12-06T15:44:51.547417Z",
     "shell.execute_reply": "2021-12-06T15:44:51.546728Z",
     "shell.execute_reply.started": "2021-12-06T15:44:51.533662Z"
    }
   },
   "outputs": [],
   "source": [
    "#dropping irrelevant columns \n",
    "fake_df.drop(['date', 'subject'], axis=1, inplace=True)\n",
    "true_df.drop(['date', 'subject'], axis=1, inplace=True)"
   ]
  },
  {
   "cell_type": "code",
   "execution_count": 8,
   "metadata": {
    "execution": {
     "iopub.execute_input": "2021-12-06T15:44:51.550738Z",
     "iopub.status.busy": "2021-12-06T15:44:51.550496Z",
     "iopub.status.idle": "2021-12-06T15:44:51.555578Z",
     "shell.execute_reply": "2021-12-06T15:44:51.554798Z",
     "shell.execute_reply.started": "2021-12-06T15:44:51.550714Z"
    }
   },
   "outputs": [],
   "source": [
    "#setting binary values, 0 for fake, 1 for true\n",
    "fake_df['class'] = 0 \n",
    "true_df['class'] = 1"
   ]
  },
  {
   "cell_type": "code",
   "execution_count": 12,
   "metadata": {
    "execution": {
     "iopub.execute_input": "2021-12-06T15:44:51.557714Z",
     "iopub.status.busy": "2021-12-06T15:44:51.557151Z",
     "iopub.status.idle": "2021-12-06T15:44:51.808023Z",
     "shell.execute_reply": "2021-12-06T15:44:51.807128Z",
     "shell.execute_reply.started": "2021-12-06T15:44:51.557605Z"
    }
   },
   "outputs": [
    {
     "data": {
      "text/plain": [
       "Text(0, 0.5, 'Proportion of News Articles')"
      ]
     },
     "execution_count": 12,
     "metadata": {},
     "output_type": "execute_result"
    },
    {
     "data": {
      "image/png": "[encoded data removed]",
      "text/plain": [
       "<Figure size 720x360 with 1 Axes>"
      ]
     },
     "metadata": {},
     "output_type": "display_data"
    },
    {
     "data": {
      "image/png": "[encoded data removed]",
      "text/plain": [
       "<Figure size 720x360 with 1 Axes>"
      ]
     },
     "metadata": {},
     "output_type": "display_data"
    }
   ],
   "source": [
    "#graph to visualize distribution of dataset\n",
    "plt.style.use('ggplot')\n",
    "plt.figure(figsize=(10, 5))\n",
    "plt.bar('Fake News', len(fake_df), color='red')\n",
    "plt.bar('True News', len(true_df), color='green')\n",
    "plt.title('Distribution of Fake News and True News')\n",
    "plt.xlabel('News Type')\n",
    "plt.ylabel('# of News Articles')\n",
    "\n",
    "\n",
    "total_len = len(fake_df) + len(true_df)\n",
    "plt.figure(figsize=(10, 5))\n",
    "plt.bar('Fake News', len(fake_df) / total_len, color='red')\n",
    "plt.bar('True News', len(true_df) / total_len, color='green')\n",
    "plt.title('Distribution of Fake News and True News')\n",
    "plt.xlabel('News Type')\n",
    "plt.ylabel('Proportion of News Articles')"
   ]
  },
  {
   "cell_type": "code",
   "execution_count": 15,
   "metadata": {
    "execution": {
     "iopub.execute_input": "2021-12-06T15:44:51.809941Z",
     "iopub.status.busy": "2021-12-06T15:44:51.809321Z",
     "iopub.status.idle": "2021-12-06T15:44:51.816690Z",
     "shell.execute_reply": "2021-12-06T15:44:51.815397Z",
     "shell.execute_reply.started": "2021-12-06T15:44:51.809899Z"
    }
   },
   "outputs": [
    {
     "name": "stdout",
     "output_type": "stream",
     "text": [
      "Difference: 2064\n"
     ]
    }
   ],
   "source": [
    "#difference in true and fake news articles\n",
    "print('Difference:',len(fake_df)-len(true_df))"
   ]
  },
  {
   "cell_type": "code",
   "execution_count": 16,
   "metadata": {
    "execution": {
     "iopub.execute_input": "2021-12-06T15:44:51.819006Z",
     "iopub.status.busy": "2021-12-06T15:44:51.818305Z",
     "iopub.status.idle": "2021-12-06T15:44:51.841204Z",
     "shell.execute_reply": "2021-12-06T15:44:51.840368Z",
     "shell.execute_reply.started": "2021-12-06T15:44:51.818964Z"
    }
   },
   "outputs": [
    {
     "data": {
      "text/html": [
       "<div>\n",
       "<style scoped>\n",
       "    .dataframe tbody tr th:only-of-type {\n",
       "        vertical-align: middle;\n",
       "    }\n",
       "\n",
       "    .dataframe tbody tr th {\n",
       "        vertical-align: top;\n",
       "    }\n",
       "\n",
       "    .dataframe thead th {\n",
       "        text-align: right;\n",
       "    }\n",
       "</style>\n",
       "<table border=\"1\" class=\"dataframe\">\n",
       "  <thead>\n",
       "    <tr style=\"text-align: right;\">\n",
       "      <th></th>\n",
       "      <th>title</th>\n",
       "      <th>text</th>\n",
       "      <th>class</th>\n",
       "    </tr>\n",
       "  </thead>\n",
       "  <tbody>\n",
       "    <tr>\n",
       "      <th>0</th>\n",
       "      <td>Donald Trump Sends Out Embarrassing New Year’...</td>\n",
       "      <td>Donald Trump just couldn t wish all Americans ...</td>\n",
       "      <td>0</td>\n",
       "    </tr>\n",
       "    <tr>\n",
       "      <th>1</th>\n",
       "      <td>Drunk Bragging Trump Staffer Started Russian ...</td>\n",
       "      <td>House Intelligence Committee Chairman Devin Nu...</td>\n",
       "      <td>0</td>\n",
       "    </tr>\n",
       "    <tr>\n",
       "      <th>2</th>\n",
       "      <td>Sheriff David Clarke Becomes An Internet Joke...</td>\n",
       "      <td>On Friday, it was revealed that former Milwauk...</td>\n",
       "      <td>0</td>\n",
       "    </tr>\n",
       "    <tr>\n",
       "      <th>3</th>\n",
       "      <td>Trump Is So Obsessed He Even Has Obama’s Name...</td>\n",
       "      <td>On Christmas day, Donald Trump announced that ...</td>\n",
       "      <td>0</td>\n",
       "    </tr>\n",
       "    <tr>\n",
       "      <th>4</th>\n",
       "      <td>Pope Francis Just Called Out Donald Trump Dur...</td>\n",
       "      <td>Pope Francis used his annual Christmas Day mes...</td>\n",
       "      <td>0</td>\n",
       "    </tr>\n",
       "    <tr>\n",
       "      <th>...</th>\n",
       "      <td>...</td>\n",
       "      <td>...</td>\n",
       "      <td>...</td>\n",
       "    </tr>\n",
       "    <tr>\n",
       "      <th>44893</th>\n",
       "      <td>'Fully committed' NATO backs new U.S. approach...</td>\n",
       "      <td>BRUSSELS (Reuters) - NATO allies on Tuesday we...</td>\n",
       "      <td>1</td>\n",
       "    </tr>\n",
       "    <tr>\n",
       "      <th>44894</th>\n",
       "      <td>LexisNexis withdrew two products from Chinese ...</td>\n",
       "      <td>LONDON (Reuters) - LexisNexis, a provider of l...</td>\n",
       "      <td>1</td>\n",
       "    </tr>\n",
       "    <tr>\n",
       "      <th>44895</th>\n",
       "      <td>Minsk cultural hub becomes haven from authorities</td>\n",
       "      <td>MINSK (Reuters) - In the shadow of disused Sov...</td>\n",
       "      <td>1</td>\n",
       "    </tr>\n",
       "    <tr>\n",
       "      <th>44896</th>\n",
       "      <td>Vatican upbeat on possibility of Pope Francis ...</td>\n",
       "      <td>MOSCOW (Reuters) - Vatican Secretary of State ...</td>\n",
       "      <td>1</td>\n",
       "    </tr>\n",
       "    <tr>\n",
       "      <th>44897</th>\n",
       "      <td>Indonesia to buy $1.14 billion worth of Russia...</td>\n",
       "      <td>JAKARTA (Reuters) - Indonesia will buy 11 Sukh...</td>\n",
       "      <td>1</td>\n",
       "    </tr>\n",
       "  </tbody>\n",
       "</table>\n",
       "<p>44898 rows × 3 columns</p>\n",
       "</div>"
      ],
      "text/plain": [
       "                                                   title  \\\n",
       "0       Donald Trump Sends Out Embarrassing New Year’...   \n",
       "1       Drunk Bragging Trump Staffer Started Russian ...   \n",
       "2       Sheriff David Clarke Becomes An Internet Joke...   \n",
       "3       Trump Is So Obsessed He Even Has Obama’s Name...   \n",
       "4       Pope Francis Just Called Out Donald Trump Dur...   \n",
       "...                                                  ...   \n",
       "44893  'Fully committed' NATO backs new U.S. approach...   \n",
       "44894  LexisNexis withdrew two products from Chinese ...   \n",
       "44895  Minsk cultural hub becomes haven from authorities   \n",
       "44896  Vatican upbeat on possibility of Pope Francis ...   \n",
       "44897  Indonesia to buy $1.14 billion worth of Russia...   \n",
       "\n",
       "                                                    text  class  \n",
       "0      Donald Trump just couldn t wish all Americans ...      0  \n",
       "1      House Intelligence Committee Chairman Devin Nu...      0  \n",
       "2      On Friday, it was revealed that former Milwauk...      0  \n",
       "3      On Christmas day, Donald Trump announced that ...      0  \n",
       "4      Pope Francis used his annual Christmas Day mes...      0  \n",
       "...                                                  ...    ...  \n",
       "44893  BRUSSELS (Reuters) - NATO allies on Tuesday we...      1  \n",
       "44894  LONDON (Reuters) - LexisNexis, a provider of l...      1  \n",
       "44895  MINSK (Reuters) - In the shadow of disused Sov...      1  \n",
       "44896  MOSCOW (Reuters) - Vatican Secretary of State ...      1  \n",
       "44897  JAKARTA (Reuters) - Indonesia will buy 11 Sukh...      1  \n",
       "\n",
       "[44898 rows x 3 columns]"
      ]
     },
     "execution_count": 16,
     "metadata": {},
     "output_type": "execute_result"
    }
   ],
   "source": [
    "news_df = pd.concat([fake_df, true_df], ignore_index=True, sort=False)\n",
    "news_df"
   ]
  },
  {
   "cell_type": "code",
   "execution_count": 17,
   "metadata": {
    "execution": {
     "iopub.execute_input": "2021-12-06T15:44:51.843013Z",
     "iopub.status.busy": "2021-12-06T15:44:51.842629Z",
     "iopub.status.idle": "2021-12-06T15:44:52.000602Z",
     "shell.execute_reply": "2021-12-06T15:44:51.999770Z",
     "shell.execute_reply.started": "2021-12-06T15:44:51.842976Z"
    }
   },
   "outputs": [],
   "source": [
    "#concatenating title and text  to form one large text for easier processing\n",
    "news_df['text'] = news_df['title'] + news_df['text']\n",
    "news_df.drop('title', axis=1, inplace=True)"
   ]
  },
  {
   "cell_type": "code",
   "execution_count": 25,
   "metadata": {
    "execution": {
     "iopub.execute_input": "2021-12-06T15:44:52.002386Z",
     "iopub.status.busy": "2021-12-06T15:44:52.002035Z",
     "iopub.status.idle": "2021-12-06T15:44:52.015290Z",
     "shell.execute_reply": "2021-12-06T15:44:52.014506Z",
     "shell.execute_reply.started": "2021-12-06T15:44:52.002350Z"
    }
   },
   "outputs": [],
   "source": [
    "#split to training and testing sets\n",
    "features = news_df['text']\n",
    "targets = news_df['class']\n",
    "\n",
    "X_train, X_test, y_train, y_test = train_test_split(features, targets, test_size=0.25, random_state=11)"
   ]
  },
  {
   "cell_type": "code",
   "execution_count": 26,
   "metadata": {
    "execution": {
     "iopub.execute_input": "2021-12-06T15:44:52.018508Z",
     "iopub.status.busy": "2021-12-06T15:44:52.018141Z",
     "iopub.status.idle": "2021-12-06T15:45:12.492930Z",
     "shell.execute_reply": "2021-12-06T15:45:12.492034Z",
     "shell.execute_reply.started": "2021-12-06T15:44:52.018474Z"
    }
   },
   "outputs": [],
   "source": [
    "#removing white spaces, stopwords, url links and all lowercase\n",
    "def normalize(data):\n",
    "    normalized = []\n",
    "    for i in data:\n",
    "        i = i.lower()\n",
    "        # get rid of urls\n",
    "        i = re.sub('https?://\\S+|www\\.\\S+', '', i)\n",
    "        # get rid of non words and extra spaces\n",
    "        i = re.sub('\\\\W', ' ', i)\n",
    "        i = re.sub('\\n', '', i)\n",
    "        i = re.sub(' +', ' ', i)\n",
    "        i = re.sub('^ ', '', i)\n",
    "        i = re.sub(' $', '', i)\n",
    "        normalized.append(i)\n",
    "    return normalized\n",
    "\n",
    "X_train = normalize(X_train)\n",
    "X_test = normalize(X_test)"
   ]
  },
  {
   "cell_type": "markdown",
   "metadata": {},
   "source": [
    "# Tokenization"
   ]
  },
  {
   "cell_type": "code",
   "execution_count": 27,
   "metadata": {
    "execution": {
     "iopub.execute_input": "2021-12-06T15:45:12.494586Z",
     "iopub.status.busy": "2021-12-06T15:45:12.494218Z",
     "iopub.status.idle": "2021-12-06T15:45:22.534183Z",
     "shell.execute_reply": "2021-12-06T15:45:22.533276Z",
     "shell.execute_reply.started": "2021-12-06T15:45:12.494550Z"
    }
   },
   "outputs": [],
   "source": [
    "max_vocab = 10000\n",
    "tokenizer = Tokenizer(num_words=max_vocab)\n",
    "tokenizer.fit_on_texts(X_train)"
   ]
  },
  {
   "cell_type": "code",
   "execution_count": 28,
   "metadata": {
    "execution": {
     "iopub.execute_input": "2021-12-06T15:45:22.535928Z",
     "iopub.status.busy": "2021-12-06T15:45:22.535581Z",
     "iopub.status.idle": "2021-12-06T15:45:33.756378Z",
     "shell.execute_reply": "2021-12-06T15:45:33.755585Z",
     "shell.execute_reply.started": "2021-12-06T15:45:22.535893Z"
    }
   },
   "outputs": [],
   "source": [
    "# tokenize text to vectors \n",
    "X_train = tokenizer.texts_to_sequences(X_train)\n",
    "X_test = tokenizer.texts_to_sequences(X_test)"
   ]
  },
  {
   "cell_type": "code",
   "execution_count": 29,
   "metadata": {
    "execution": {
     "iopub.execute_input": "2021-12-06T15:45:33.758309Z",
     "iopub.status.busy": "2021-12-06T15:45:33.757995Z",
     "iopub.status.idle": "2021-12-06T15:45:35.900120Z",
     "shell.execute_reply": "2021-12-06T15:45:35.899291Z",
     "shell.execute_reply.started": "2021-12-06T15:45:33.758274Z"
    }
   },
   "outputs": [],
   "source": [
    "#applying padding for consistent length\n",
    "X_train = tf.keras.preprocessing.sequence.pad_sequences(X_train, padding='post', maxlen=256)\n",
    "X_test = tf.keras.preprocessing.sequence.pad_sequences(X_test, padding='post', maxlen=256)"
   ]
  },
  {
   "cell_type": "markdown",
   "metadata": {},
   "source": [
    "# RNN"
   ]
  },
  {
   "cell_type": "code",
   "execution_count": 30,
   "metadata": {
    "execution": {
     "iopub.execute_input": "2021-12-06T15:45:35.901965Z",
     "iopub.status.busy": "2021-12-06T15:45:35.901619Z",
     "iopub.status.idle": "2021-12-06T15:45:39.101480Z",
     "shell.execute_reply": "2021-12-06T15:45:39.100729Z",
     "shell.execute_reply.started": "2021-12-06T15:45:35.901927Z"
    }
   },
   "outputs": [
    {
     "name": "stdout",
     "output_type": "stream",
     "text": [
      "Model: \"sequential_1\"\n",
      "_________________________________________________________________\n",
      " Layer (type)                Output Shape              Param #   \n",
      "=================================================================\n",
      " embedding_1 (Embedding)     (None, None, 128)         1280000   \n",
      "                                                                 \n",
      " bidirectional_2 (Bidirectio  (None, None, 128)        98816     \n",
      " nal)                                                            \n",
      "                                                                 \n",
      " bidirectional_3 (Bidirectio  (None, 32)               18560     \n",
      " nal)                                                            \n",
      "                                                                 \n",
      " dense_2 (Dense)             (None, 64)                2112      \n",
      "                                                                 \n",
      " dropout_1 (Dropout)         (None, 64)                0         \n",
      "                                                                 \n",
      " dense_3 (Dense)             (None, 1)                 65        \n",
      "                                                                 \n",
      "=================================================================\n",
      "Total params: 1,399,553\n",
      "Trainable params: 1,399,553\n",
      "Non-trainable params: 0\n",
      "_________________________________________________________________\n"
     ]
    }
   ],
   "source": [
    "model = tf.keras.Sequential([\n",
    "    tf.keras.layers.Embedding(max_vocab, 128),\n",
    "    tf.keras.layers.Bidirectional(tf.keras.layers.LSTM(64,  return_sequences=True)),\n",
    "    tf.keras.layers.Bidirectional(tf.keras.layers.LSTM(16)),\n",
    "    tf.keras.layers.Dense(64, activation='relu'),\n",
    "    tf.keras.layers.Dropout(0.5),\n",
    "    tf.keras.layers.Dense(1)\n",
    "])\n",
    "\n",
    "model.summary()"
   ]
  },
  {
   "cell_type": "code",
   "execution_count": 31,
   "metadata": {
    "execution": {
     "iopub.execute_input": "2021-12-06T15:45:39.105023Z",
     "iopub.status.busy": "2021-12-06T15:45:39.104760Z",
     "iopub.status.idle": "2021-12-06T15:49:40.730575Z",
     "shell.execute_reply": "2021-12-06T15:49:40.726662Z",
     "shell.execute_reply.started": "2021-12-06T15:45:39.104997Z"
    }
   },
   "outputs": [
    {
     "name": "stdout",
     "output_type": "stream",
     "text": [
      "Epoch 1/10\n",
      "1011/1011 [==============================] - 170s 165ms/step - loss: 0.2815 - accuracy: 0.8597 - val_loss: 0.1175 - val_accuracy: 0.9633\n",
      "Epoch 2/10\n",
      "1011/1011 [==============================] - 161s 159ms/step - loss: 0.0835 - accuracy: 0.9767 - val_loss: 0.0642 - val_accuracy: 0.9791\n",
      "Epoch 3/10\n",
      "1011/1011 [==============================] - 162s 160ms/step - loss: 0.0390 - accuracy: 0.9899 - val_loss: 0.0679 - val_accuracy: 0.9766\n",
      "Epoch 4/10\n",
      "1011/1011 [==============================] - 164s 163ms/step - loss: 0.0196 - accuracy: 0.9950 - val_loss: 0.0506 - val_accuracy: 0.9850\n",
      "Epoch 5/10\n",
      "1011/1011 [==============================] - 163s 161ms/step - loss: 0.0144 - accuracy: 0.9969 - val_loss: 0.0585 - val_accuracy: 0.9834\n",
      "Epoch 6/10\n",
      "1011/1011 [==============================] - 164s 162ms/step - loss: 0.0078 - accuracy: 0.9985 - val_loss: 0.0671 - val_accuracy: 0.9834\n",
      "Epoch 7/10\n",
      "1011/1011 [==============================] - 164s 162ms/step - loss: 0.0075 - accuracy: 0.9985 - val_loss: 0.0842 - val_accuracy: 0.9815\n"
     ]
    }
   ],
   "source": [
    "early_stop = tf.keras.callbacks.EarlyStopping(monitor='val_loss', patience=3, restore_best_weights=True)\n",
    "model.compile(loss=tf.keras.losses.BinaryCrossentropy(from_logits=True),\n",
    "              optimizer=tf.keras.optimizers.Adam(1e-4),\n",
    "              metrics=['accuracy'])\n",
    "\n",
    "history = model.fit(X_train, y_train, epochs=10,validation_split=0.25, batch_size=25, shuffle=True, callbacks=[early_stop])"
   ]
  },
  {
   "cell_type": "code",
   "execution_count": 32,
   "metadata": {
    "execution": {
     "iopub.execute_input": "2021-12-06T15:49:41.097967Z",
     "iopub.status.busy": "2021-12-06T15:49:41.097619Z",
     "iopub.status.idle": "2021-12-06T15:49:46.581968Z",
     "shell.execute_reply": "2021-12-06T15:49:46.581272Z",
     "shell.execute_reply.started": "2021-12-06T15:49:41.097929Z"
    }
   },
   "outputs": [
    {
     "name": "stdout",
     "output_type": "stream",
     "text": [
      "351/351 [==============================] - 15s 42ms/step - loss: 0.0428 - accuracy: 0.9865\n"
     ]
    },
    {
     "data": {
      "text/plain": [
       "[0.04280582442879677, 0.9864587783813477]"
      ]
     },
     "execution_count": 32,
     "metadata": {},
     "output_type": "execute_result"
    }
   ],
   "source": [
    "#evalutation\n",
    "model.evaluate(X_test, y_test)"
   ]
  },
  {
   "cell_type": "code",
   "execution_count": 33,
   "metadata": {
    "execution": {
     "iopub.execute_input": "2021-12-06T15:49:46.585215Z",
     "iopub.status.busy": "2021-12-06T15:49:46.584957Z",
     "iopub.status.idle": "2021-12-06T15:49:52.723685Z",
     "shell.execute_reply": "2021-12-06T15:49:52.722769Z",
     "shell.execute_reply.started": "2021-12-06T15:49:46.585189Z"
    }
   },
   "outputs": [
    {
     "name": "stdout",
     "output_type": "stream",
     "text": [
      "351/351 [==============================] - 16s 42ms/step\n"
     ]
    }
   ],
   "source": [
    "pred = model.predict(X_test)\n",
    "\n",
    "binary_predictions = []\n",
    "\n",
    "for i in pred:\n",
    "    if i >= 0.5:\n",
    "        binary_predictions.append(1)\n",
    "    else:\n",
    "        binary_predictions.append(0) "
   ]
  },
  {
   "cell_type": "code",
   "execution_count": 59,
   "metadata": {
    "execution": {
     "iopub.execute_input": "2021-12-06T15:49:52.725492Z",
     "iopub.status.busy": "2021-12-06T15:49:52.725132Z",
     "iopub.status.idle": "2021-12-06T15:49:52.768425Z",
     "shell.execute_reply": "2021-12-06T15:49:52.767631Z",
     "shell.execute_reply.started": "2021-12-06T15:49:52.725453Z"
    }
   },
   "outputs": [
    {
     "name": "stdout",
     "output_type": "stream",
     "text": [
      "Accuracy: 0.9864587973273942\n",
      "Precision: 0.9814282979130767\n",
      "Recall: 0.9893842887473461\n",
      "F-Score: 0.9853902345251826\n"
     ]
    }
   ],
   "source": [
    "print('Accuracy:', accuracy_score(binary_predictions, y_test))\n",
    "print('Precision:', precision_score(binary_predictions, y_test))\n",
    "print('Recall:', recall_score(binary_predictions, y_test))\n",
    "print('F-Score:', f1_score(binary_predictions, y_test))"
   ]
  },
  {
   "cell_type": "code",
   "execution_count": 38,
   "metadata": {
    "execution": {
     "iopub.execute_input": "2021-12-06T15:49:52.770070Z",
     "iopub.status.busy": "2021-12-06T15:49:52.769734Z",
     "iopub.status.idle": "2021-12-06T15:49:52.982629Z",
     "shell.execute_reply": "2021-12-06T15:49:52.981725Z",
     "shell.execute_reply.started": "2021-12-06T15:49:52.770038Z"
    }
   },
   "outputs": [
    {
     "data": {
      "text/plain": [
       "[Text(0, 0.5, '0'), Text(0, 1.5, '1')]"
      ]
     },
     "execution_count": 38,
     "metadata": {},
     "output_type": "execute_result"
    },
    {
     "data": {
      "image/png": "[encoded data removed]",
      "text/plain": [
       "<Figure size 432x288 with 2 Axes>"
      ]
     },
     "metadata": {},
     "output_type": "display_data"
    }
   ],
   "source": [
    "matrix = confusion_matrix(binary_predictions, y_test, normalize='all')\n",
    "plt.figure()\n",
    "ax= plt.subplot()\n",
    "sns.heatmap(matrix, annot = True, fmt = 'g', cmap = 'mako')\n",
    "\n",
    "# labels, title and ticks\n",
    "ax.set_xlabel('Predicted Labels')\n",
    "ax.set_ylabel('True Labels')\n",
    "ax.set_title('Confusion Matrix') \n",
    "ax.xaxis.set_ticklabels([0,1])\n",
    "ax.yaxis.set_ticklabels([0,1])"
   ]
  },
  {
   "cell_type": "code",
   "execution_count": 39,
   "metadata": {},
   "outputs": [
    {
     "data": {
      "image/png": "[encoded data removed]",
      "text/plain": [
       "<Figure size 1080x720 with 1 Axes>"
      ]
     },
     "metadata": {},
     "output_type": "display_data"
    },
    {
     "data": {
      "image/png": "[encoded data removed]",
      "text/plain": [
       "<Figure size 864x648 with 1 Axes>"
      ]
     },
     "metadata": {},
     "output_type": "display_data"
    }
   ],
   "source": [
    "#training over time graph\n",
    "history_dict = history.history\n",
    "\n",
    "acc = history_dict['accuracy']\n",
    "val_acc = history_dict['val_accuracy']\n",
    "loss = history_dict['loss']\n",
    "val_loss = history_dict['val_loss']\n",
    "epochs = history.epoch\n",
    "\n",
    "plt.figure(figsize=(15,10))\n",
    "plt.plot(epochs, loss, 'r', label='Training Loss')\n",
    "plt.plot(epochs, val_loss, 'b', label='Validation Loss')\n",
    "plt.title('Training and validation loss')\n",
    "plt.xlabel('Epochs')\n",
    "plt.ylabel('Loss')\n",
    "plt.legend(prop={'size': 10})\n",
    "plt.show()\n",
    "\n",
    "plt.figure(figsize=(12,9))\n",
    "plt.plot(epochs, acc, 'g', label='Training Accuracy')\n",
    "plt.plot(epochs, val_acc, 'b', label='Validation Accuracy')\n",
    "plt.title('Training and Validation accuracy')\n",
    "plt.xlabel('Epochs')\n",
    "plt.ylabel('Accuracy')\n",
    "plt.legend(prop={'size': 10})\n",
    "plt.ylim((0.5,1))\n",
    "plt.show()"
   ]
  },
  {
   "cell_type": "markdown",
   "metadata": {},
   "source": [
    "# Naive Bayes"
   ]
  },
  {
   "cell_type": "code",
   "execution_count": 40,
   "metadata": {},
   "outputs": [
    {
     "name": "stdout",
     "output_type": "stream",
     "text": [
      "\tNaive Bayes Classifier Results\n",
      "\n",
      "              precision    recall  f1-score   support\n",
      "\n",
      "           0       0.59      0.60      0.60      6002\n",
      "           1       0.54      0.53      0.53      5223\n",
      "\n",
      "    accuracy                           0.57     11225\n",
      "   macro avg       0.56      0.56      0.56     11225\n",
      "weighted avg       0.57      0.57      0.57     11225\n",
      "\n"
     ]
    },
    {
     "data": {
      "image/png": "[encoded data removed]",
      "text/plain": [
       "<Figure size 432x288 with 2 Axes>"
      ]
     },
     "metadata": {},
     "output_type": "display_data"
    }
   ],
   "source": [
    "#naive bayes \n",
    "print(\"\\tNaive Bayes Classifier Results\\n\")\n",
    "nb = MultinomialNB().fit(X_train, y_train)\n",
    "y_pred_nb = nb.predict(X_test)\n",
    "cm_nb = confusion_matrix(y_test, y_pred_nb)\n",
    "print(classification_report(y_test, y_pred_nb))\n",
    "sns.heatmap(cm_nb, annot = True, fmt = 'g', cmap = 'mako')\n",
    "plt.xlabel('Predicted')\n",
    "plt.ylabel('Actual')\n",
    "plt.title('Naive Bayes')\n",
    "plt.show()"
   ]
  },
  {
   "cell_type": "markdown",
   "metadata": {},
   "source": [
    "# Logistic Regression"
   ]
  },
  {
   "cell_type": "code",
   "execution_count": 41,
   "metadata": {},
   "outputs": [
    {
     "name": "stdout",
     "output_type": "stream",
     "text": [
      "              precision    recall  f1-score   support\n",
      "\n",
      "           0       0.62      0.65      0.63      6002\n",
      "           1       0.58      0.55      0.56      5223\n",
      "\n",
      "    accuracy                           0.60     11225\n",
      "   macro avg       0.60      0.60      0.60     11225\n",
      "weighted avg       0.60      0.60      0.60     11225\n",
      "\n"
     ]
    },
    {
     "data": {
      "image/png": "[encoded data removed]",
      "text/plain": [
       "<Figure size 432x288 with 2 Axes>"
      ]
     },
     "metadata": {},
     "output_type": "display_data"
    }
   ],
   "source": [
    "#logistic regression\n",
    "lr = LogisticRegression(solver = 'liblinear')\n",
    "lr.fit(X_train, y_train)\n",
    "y_pred_lr = lr.predict(X_test)\n",
    "cm_lr = confusion_matrix(y_test, y_pred_lr)\n",
    "print(classification_report(y_test, y_pred_lr))\n",
    "sns.heatmap(cm_lr, annot = True, fmt = 'g', cmap = 'mako')\n",
    "plt.xlabel('Predicted')\n",
    "plt.ylabel('Actual')\n",
    "plt.title('Logistic Regression')\n",
    "plt.show()"
   ]
  },
  {
   "cell_type": "markdown",
   "metadata": {},
   "source": [
    "# Random Forest"
   ]
  },
  {
   "cell_type": "code",
   "execution_count": 42,
   "metadata": {},
   "outputs": [
    {
     "name": "stdout",
     "output_type": "stream",
     "text": [
      "\tRandom Forest Classifier Results\n",
      "\n",
      "              precision    recall  f1-score   support\n",
      "\n",
      "           0       0.89      0.86      0.87      6002\n",
      "           1       0.85      0.87      0.86      5223\n",
      "\n",
      "    accuracy                           0.87     11225\n",
      "   macro avg       0.87      0.87      0.87     11225\n",
      "weighted avg       0.87      0.87      0.87     11225\n",
      "\n"
     ]
    },
    {
     "data": {
      "image/png": "[encoded data removed]",
      "text/plain": [
       "<Figure size 432x288 with 2 Axes>"
      ]
     },
     "metadata": {},
     "output_type": "display_data"
    }
   ],
   "source": [
    "#random forest\n",
    "print(\"\\tRandom Forest Classifier Results\\n\")\n",
    "rfc = RandomForestClassifier(random_state = 6) #try different random states for optimization\n",
    "rfc.fit(X_train, y_train)\n",
    "y_pred_rfc = rfc.predict(X_test)\n",
    "cm_rfc = confusion_matrix(y_test, y_pred_rfc)\n",
    "print(classification_report(y_test, y_pred_rfc))\n",
    "sns.heatmap(cm_rfc, annot = True, fmt = 'g', cmap = 'mako')\n",
    "plt.xlabel('Predicted')\n",
    "plt.ylabel('Actual')\n",
    "plt.title('Random Forest')\n",
    "plt.show()"
   ]
  },
  {
   "cell_type": "markdown",
   "metadata": {},
   "source": [
    "# CNN"
   ]
  },
  {
   "cell_type": "code",
   "execution_count": 43,
   "metadata": {},
   "outputs": [],
   "source": [
    "#cnn\n",
    "cnn_model = tf.keras.Sequential()\n",
    "cnn_model.add(layers.Reshape((256, 1), input_shape=(256,)))\n",
    "cnn_model.add(layers.Conv1D(32, kernel_size=(3), activation = 'relu', input_dim=(X_train.shape[1])))\n",
    "cnn_model.add(layers.MaxPooling1D(pool_size=2))\n",
    "cnn_model.add(layers.Dense(units = 128 , activation = 'relu'))\n",
    "cnn_model.add(layers.Dense(units = 64 , activation = 'relu'))\n",
    "cnn_model.add(layers.Dense(units = 1 , activation = 'sigmoid'))"
   ]
  },
  {
   "cell_type": "code",
   "execution_count": 46,
   "metadata": {},
   "outputs": [
    {
     "name": "stdout",
     "output_type": "stream",
     "text": [
      "Epoch 1/10\n",
      "1011/1011 [==============================] - 6s 5ms/step - loss: 0.6906 - accuracy: 0.5368 - val_loss: 0.6898 - val_accuracy: 0.5371\n",
      "Epoch 2/10\n",
      "1011/1011 [==============================] - 5s 5ms/step - loss: 0.6906 - accuracy: 0.5369 - val_loss: 0.6898 - val_accuracy: 0.5371\n",
      "Epoch 3/10\n",
      "1011/1011 [==============================] - 5s 5ms/step - loss: 0.6904 - accuracy: 0.5369 - val_loss: 0.6918 - val_accuracy: 0.5371\n",
      "Epoch 4/10\n",
      "1011/1011 [==============================] - 5s 5ms/step - loss: 0.6905 - accuracy: 0.5369 - val_loss: 0.6905 - val_accuracy: 0.5371\n",
      "Epoch 5/10\n",
      "1011/1011 [==============================] - 5s 5ms/step - loss: 0.6905 - accuracy: 0.5369 - val_loss: 0.6900 - val_accuracy: 0.5371\n"
     ]
    }
   ],
   "source": [
    "cnn_model.compile(optimizer = 'adam' , loss = 'binary_crossentropy' , metrics = ['accuracy'])\n",
    "cnn_history = cnn_model.fit(X_train, y_train, epochs=10,validation_split=0.25, batch_size=25, shuffle=True, callbacks=[early_stop])"
   ]
  },
  {
   "cell_type": "code",
   "execution_count": 47,
   "metadata": {},
   "outputs": [
    {
     "name": "stdout",
     "output_type": "stream",
     "text": [
      "351/351 [==============================] - 1s 2ms/step - loss: 0.6894 - accuracy: 0.5481\n"
     ]
    },
    {
     "data": {
      "text/plain": [
       "[0.6893986463546753, 0.5481072664260864]"
      ]
     },
     "execution_count": 47,
     "metadata": {},
     "output_type": "execute_result"
    }
   ],
   "source": [
    "cnn_model.evaluate(X_test, y_test)"
   ]
  },
  {
   "cell_type": "code",
   "execution_count": 61,
   "metadata": {},
   "outputs": [
    {
     "name": "stdout",
     "output_type": "stream",
     "text": [
      "351/351 [==============================] - 1s 2ms/step\n"
     ]
    }
   ],
   "source": [
    "cnn_pred = cnn_model.predict(X_test)\n",
    "\n",
    "cnn_binary_predictions = []\n",
    "\n",
    "for i in cnn_pred:\n",
    "    if i.any() >= 0.5:\n",
    "        cnn_binary_predictions.append(1)\n",
    "    else:\n",
    "        cnn_binary_predictions.append(0)"
   ]
  },
  {
   "cell_type": "code",
   "execution_count": 62,
   "metadata": {},
   "outputs": [
    {
     "name": "stdout",
     "output_type": "stream",
     "text": [
      "Accuracy: 0.46530066815144766\n",
      "Precision: 1.0\n",
      "Recall: 0.46530066815144766\n",
      "F-Score: 0.6350924124513619\n"
     ]
    }
   ],
   "source": [
    "print('Accuracy:', accuracy_score(cnn_binary_predictions, y_test))\n",
    "print('Precision:', precision_score(cnn_binary_predictions, y_test))\n",
    "print('Recall:', recall_score(cnn_binary_predictions, y_test))\n",
    "print('F-Score:', f1_score(cnn_binary_predictions, y_test))"
   ]
  },
  {
   "cell_type": "code",
   "execution_count": 63,
   "metadata": {},
   "outputs": [
    {
     "data": {
      "text/plain": [
       "[Text(0, 0.5, '0'), Text(0, 1.5, '1')]"
      ]
     },
     "execution_count": 63,
     "metadata": {},
     "output_type": "execute_result"
    },
    {
     "data": {
      "image/png": "[encoded data removed]",
      "text/plain": [
       "<Figure size 432x288 with 2 Axes>"
      ]
     },
     "metadata": {},
     "output_type": "display_data"
    }
   ],
   "source": [
    "cnn_matrix = confusion_matrix(cnn_binary_predictions, y_test, normalize='all')\n",
    "plt.figure()\n",
    "ax= plt.subplot()\n",
    "sns.heatmap(cnn_matrix, annot = True, fmt = 'g', cmap = 'mako')\n",
    "\n",
    "# labels, title and ticks\n",
    "ax.set_xlabel('Predicted Labels')\n",
    "ax.set_ylabel('True Labels')\n",
    "ax.set_title('Confusion Matrix') \n",
    "ax.xaxis.set_ticklabels([0,1])\n",
    "ax.yaxis.set_ticklabels([0,1])"
   ]
  },
  {
   "cell_type": "code",
   "execution_count": 58,
   "metadata": {},
   "outputs": [
    {
     "name": "stdout",
     "output_type": "stream",
     "text": [
      "Naive Bayes Classifier Accuracy:  56.71%\n",
      "Naive Bayes Classifier Precision:  53.50%\n",
      "Naive Bayes Classifier Recall:  53.23%\n",
      "Naive Bayes Classifier F1 Score:  53.36%\n",
      "\n",
      "\n",
      "Logistic Regression Accuracy:  60.15%\n",
      "Logistic Regression Precision:  57.52%\n",
      "Logistic Regression Recall:  54.91%\n",
      "Logistic Regression F1 Score:  56.19%\n",
      "\n",
      "\n",
      "Random Forest Classifier Accuracy:  86.75%\n",
      "Random Forest Classifier Precision:  84.58%\n",
      "Random Forest Classifier Recall:  87.48%\n",
      "Random Forest Classifier F1 Score:  86.00%\n"
     ]
    }
   ],
   "source": [
    "#naive bayes\n",
    "print(\"Naive Bayes Classifier Accuracy: \", '{:.2%}'.format(accuracy_score(y_test, y_pred_nb)))\n",
    "print(\"Naive Bayes Classifier Precision: \", '{:.2%}'.format(precision_score(y_test, y_pred_nb)))\n",
    "print(\"Naive Bayes Classifier Recall: \", '{:.2%}'.format(recall_score(y_test, y_pred_nb)))\n",
    "print(\"Naive Bayes Classifier F1 Score: \", '{:.2%}'.format(f1_score(y_test, y_pred_nb)))\n",
    "\n",
    "#Logistic Regression\n",
    "print(\"\\n\")\n",
    "print(\"Logistic Regression Accuracy: \", '{:.2%}'.format(accuracy_score(y_test, y_pred_lr)))\n",
    "print(\"Logistic Regression Precision: \", '{:.2%}'.format(precision_score(y_test, y_pred_lr)))\n",
    "print(\"Logistic Regression Recall: \", '{:.2%}'.format(recall_score(y_test, y_pred_lr)))\n",
    "print(\"Logistic Regression F1 Score: \", '{:.2%}'.format(f1_score(y_test, y_pred_lr)))\n",
    "\n",
    "#random forest\n",
    "print(\"\\n\")\n",
    "print(\"Random Forest Classifier Accuracy: \", '{:.2%}'.format(accuracy_score(y_test, y_pred_rfc)))\n",
    "print(\"Random Forest Classifier Precision: \", '{:.2%}'.format(precision_score(y_test, y_pred_rfc)))\n",
    "print(\"Random Forest Classifier Recall: \", '{:.2%}'.format(recall_score(y_test, y_pred_rfc)))\n",
    "print(\"Random Forest Classifier F1 Score: \", '{:.2%}'.format(f1_score(y_test, y_pred_rfc)))"
   ]
  }
 ],
 "metadata": {
  "kernelspec": {
   "display_name": "Python 3 (ipykernel)",
   "language": "python",
   "name": "python3"
  },
  "language_info": {
   "codemirror_mode": {
    "name": "ipython",
    "version": 3
   },
   "file_extension": ".py",
   "mimetype": "text/x-python",
   "name": "python",
   "nbconvert_exporter": "python",
   "pygments_lexer": "ipython3",
   "version": "3.9.7"
  }
 },
 "nbformat": 4,
 "nbformat_minor": 4
}
